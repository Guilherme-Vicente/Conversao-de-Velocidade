{
 "cells": [
  {
   "cell_type": "code",
   "execution_count": 15,
   "metadata": {},
   "outputs": [
    {
     "name": "stdout",
     "output_type": "stream",
     "text": [
      "1. Quilômetros por hora (km/h) para Metros por segundo (m/s)\n",
      "2. Metros por segundo (m/s) para Quilômetros por hora (km/h)\n",
      "Qual conversão você gostaria de fazer?: 2\n",
      "Digite a velocidade em (m/s): 13\n",
      "Velocidade: 46.800000000000004\n"
     ]
    }
   ],
   "source": [
    "def print_menu():\n",
    "    print('1. Quilômetros por hora (km/h) para Metros por segundo (m/s)')\n",
    "    print('2. Metros por segundo (m/s) para Quilômetros por hora (km/h)')\n",
    "\n",
    "def km_ms():\n",
    "    km = float(input('Digite a velocidade em (Km/h): '))\n",
    "    ms = km / 3.6\n",
    "    \n",
    "    print('Velocidade em (m/s): {0}'.format(ms))\n",
    "    \n",
    "def ms_km():\n",
    "    ms = float(input('Digite a velocidade em (m/s): '))\n",
    "    km = ms * 3.6\n",
    "    \n",
    "    print('Velocidade: {0}'.format(km))\n",
    "    \n",
    "if __name__ == '__main__':\n",
    "    print_menu()\n",
    "    choice = input('Qual conversão você gostaria de fazer?: ')\n",
    "    if choice == '1':\n",
    "        km_ms()\n",
    "    if choice == '2':\n",
    "        ms_km()\n",
    "        "
   ]
  }
 ],
 "metadata": {
  "kernelspec": {
   "display_name": "Python 3",
   "language": "python",
   "name": "python3"
  },
  "language_info": {
   "codemirror_mode": {
    "name": "ipython",
    "version": 3
   },
   "file_extension": ".py",
   "mimetype": "text/x-python",
   "name": "python",
   "nbconvert_exporter": "python",
   "pygments_lexer": "ipython3",
   "version": "3.7.4"
  }
 },
 "nbformat": 4,
 "nbformat_minor": 2
}
